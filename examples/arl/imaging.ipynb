{
 "cells": [
  {
   "cell_type": "markdown",
   "metadata": {},
   "source": [
    "# Imaging and deconvolution demonstration"
   ]
  },
  {
   "cell_type": "markdown",
   "metadata": {},
   "source": [
    "This script makes a fake data set and then deconvolves it. Finally the full and residual visibility are plotted."
   ]
  },
  {
   "cell_type": "code",
   "execution_count": 1,
   "metadata": {
    "ExecuteTime": {
     "end_time": "2018-01-21T10:19:24.629987Z",
     "start_time": "2018-01-21T10:19:22.449140Z"
    }
   },
   "outputs": [],
   "source": [
    "% matplotlib inline\n",
    "\n",
    "import os\n",
    "import sys\n",
    "\n",
    "sys.path.append(os.path.join('..', '..'))\n",
    "\n",
    "results_dir = './results'\n",
    "os.makedirs(results_dir, exist_ok=True)\n",
    "\n",
    "from matplotlib import pylab\n",
    "\n",
    "pylab.rcParams['figure.figsize'] = (8.0, 8.0)\n",
    "pylab.rcParams['image.cmap'] = 'rainbow'\n",
    "\n",
    "import numpy\n",
    "\n",
    "from astropy.coordinates import SkyCoord\n",
    "from astropy import units as u\n",
    "from astropy.wcs.utils import pixel_to_skycoord\n",
    "\n",
    "from matplotlib import pyplot as plt\n",
    "\n",
    "from arl.visibility.base import create_visibility\n",
    "from arl.skycomponent.operations import create_skycomponent\n",
    "from arl.image.operations import show_image, export_image_to_fits\n",
    "from arl.image.deconvolution import deconvolve_cube, restore_cube\n",
    "from arl.image.iterators import image_raster_iter\n",
    "from arl.visibility.iterators import vis_timeslice_iter\n",
    "from arl.util.testing_support import create_named_configuration, create_test_image\n",
    "from arl.imaging import create_image_from_visibility\n",
    "from arl.imaging.imaging_context import invert_function, predict_function\n",
    "\n",
    "from arl.data.polarisation import PolarisationFrame\n",
    "\n",
    "import logging\n",
    "\n",
    "log = logging.getLogger()\n",
    "log.setLevel(logging.DEBUG)\n",
    "log.addHandler(logging.StreamHandler(sys.stdout))\n"
   ]
  },
  {
   "cell_type": "markdown",
   "metadata": {},
   "source": [
    "Construct LOW core configuration"
   ]
  },
  {
   "cell_type": "code",
   "execution_count": null,
   "metadata": {
    "ExecuteTime": {
     "end_time": "2018-01-18T09:24:44.458864Z",
     "start_time": "2018-01-18T09:24:44.415362Z"
    }
   },
   "outputs": [],
   "source": [
    "lowcore = create_named_configuration('LOWBD2-CORE')"
   ]
  },
  {
   "cell_type": "markdown",
   "metadata": {},
   "source": [
    "We create the visibility. This just makes the uvw, time, antenna1, antenna2, weight columns in a table"
   ]
  },
  {
   "cell_type": "code",
   "execution_count": null,
   "metadata": {
    "ExecuteTime": {
     "end_time": "2018-01-18T09:24:44.570697Z",
     "start_time": "2018-01-18T09:24:44.460870Z"
    }
   },
   "outputs": [],
   "source": [
    "times = numpy.zeros([1])\n",
    "frequency = numpy.array([1e8])\n",
    "channel_bandwidth = numpy.array([1e6])\n",
    "phasecentre = SkyCoord(ra=+15.0 * u.deg, dec=-45.0 * u.deg, frame='icrs', equinox='J2000')\n",
    "vt = create_visibility(lowcore, times, frequency, channel_bandwidth=channel_bandwidth,\n",
    "                       weight=1.0, phasecentre=phasecentre, polarisation_frame=PolarisationFrame('stokesI'))"
   ]
  },
  {
   "cell_type": "markdown",
   "metadata": {},
   "source": [
    "Plot the synthesized uv coverage."
   ]
  },
  {
   "cell_type": "code",
   "execution_count": null,
   "metadata": {
    "ExecuteTime": {
     "end_time": "2018-01-18T09:24:44.889190Z",
     "start_time": "2018-01-18T09:24:44.574832Z"
    },
    "scrolled": false
   },
   "outputs": [],
   "source": [
    "plt.clf()\n",
    "plt.plot(vt.data['uvw'][:,0], vt.data['uvw'][:,1], '.', color='b')\n",
    "plt.plot(-vt.data['uvw'][:,0], -vt.data['uvw'][:,1], '.', color='b')\n",
    "plt.show()"
   ]
  },
  {
   "cell_type": "markdown",
   "metadata": {},
   "source": [
    "Read the venerable test image, constructing an image"
   ]
  },
  {
   "cell_type": "code",
   "execution_count": null,
   "metadata": {
    "ExecuteTime": {
     "end_time": "2018-01-18T09:24:45.372017Z",
     "start_time": "2018-01-18T09:24:44.891318Z"
    }
   },
   "outputs": [],
   "source": [
    "m31image = create_test_image(frequency=frequency, cellsize=0.0005)\n",
    "nchan, npol, ny, nx = m31image.data.shape\n",
    "m31image.wcs.wcs.crval[0] = vt.phasecentre.ra.deg\n",
    "m31image.wcs.wcs.crval[1] = vt.phasecentre.dec.deg\n",
    "m31image.wcs.wcs.crpix[0] = float(nx // 2)\n",
    "m31image.wcs.wcs.crpix[1] = float(ny // 2)\n",
    "\n",
    "fig=show_image(m31image)"
   ]
  },
  {
   "cell_type": "code",
   "execution_count": null,
   "metadata": {
    "ExecuteTime": {
     "end_time": "2018-01-18T09:24:45.849390Z",
     "start_time": "2018-01-18T09:24:45.374469Z"
    }
   },
   "outputs": [],
   "source": [
    "vt = predict_function(vt, m31image, context='2d')\n",
    "\n",
    "# To check that we got the prediction right, plot the amplitude of the visibility.\n",
    "uvdist=numpy.sqrt(vt.data['uvw'][:,0]**2+vt.data['uvw'][:,1]**2)\n",
    "plt.clf()\n",
    "plt.plot(uvdist, numpy.abs(vt.data['vis']), '.')\n",
    "plt.xlabel('uvdist')\n",
    "plt.ylabel('Amp Visibility')\n",
    "plt.show()"
   ]
  },
  {
   "cell_type": "markdown",
   "metadata": {},
   "source": [
    "Make the dirty image and point spread function"
   ]
  },
  {
   "cell_type": "code",
   "execution_count": null,
   "metadata": {
    "ExecuteTime": {
     "end_time": "2018-01-18T09:24:46.666501Z",
     "start_time": "2018-01-18T09:24:45.851520Z"
    },
    "scrolled": false
   },
   "outputs": [],
   "source": [
    "model = create_image_from_visibility(vt, cellsize=0.001, npixel=256)\n",
    "dirty, sumwt = invert_function(vt, model)\n",
    "psf, sumwt = invert_function(vt, model, dopsf=True)\n",
    "\n",
    "show_image(dirty)\n",
    "print(\"Max, min in dirty image = %.6f, %.6f, sumwt = %f\" % (dirty.data.max(), dirty.data.min(), sumwt))\n",
    "\n",
    "print(\"Max, min in PSF         = %.6f, %.6f, sumwt = %f\" % (psf.data.max(), psf.data.min(), sumwt))\n",
    "\n",
    "export_image_to_fits(dirty, '%s/imaging_dirty.fits'%(results_dir))\n",
    "export_image_to_fits(psf, '%s/imaging_psf.fits'%(results_dir))"
   ]
  },
  {
   "cell_type": "markdown",
   "metadata": {},
   "source": [
    "Deconvolve using clean"
   ]
  },
  {
   "cell_type": "code",
   "execution_count": null,
   "metadata": {
    "ExecuteTime": {
     "end_time": "2018-01-18T09:24:50.959375Z",
     "start_time": "2018-01-18T09:24:46.668586Z"
    },
    "scrolled": false
   },
   "outputs": [],
   "source": [
    "comp, residual = deconvolve_cube(dirty, psf, niter=1000, threshold=0.001, fracthresh=0.01, window_shape='quarter',\n",
    "                                 gain=0.7, scales=[0, 3, 10, 30])\n",
    "\n",
    "restored = restore_cube(comp, psf, residual)\n",
    "\n",
    "# Show the results\n",
    "\n",
    "fig=show_image(comp)\n",
    "plt.title('Solution')\n",
    "fig=show_image(residual)\n",
    "plt.title('Residual')\n",
    "fig=show_image(restored)\n",
    "plt.title('Restored')"
   ]
  },
  {
   "cell_type": "markdown",
   "metadata": {},
   "source": [
    "Predict the visibility of the model"
   ]
  },
  {
   "cell_type": "code",
   "execution_count": null,
   "metadata": {
    "ExecuteTime": {
     "end_time": "2018-01-18T09:24:51.830035Z",
     "start_time": "2018-01-18T09:24:50.962858Z"
    }
   },
   "outputs": [],
   "source": [
    "vtmodel = create_visibility(lowcore, times, frequency, channel_bandwidth=channel_bandwidth,\n",
    "                            weight=1.0, phasecentre=phasecentre, polarisation_frame=PolarisationFrame('stokesI'))\n",
    "vtmodel=predict_function(vtmodel, comp)"
   ]
  },
  {
   "cell_type": "markdown",
   "metadata": {
    "collapsed": true
   },
   "source": [
    "Now we will plot the original visibility and the residual visibility."
   ]
  },
  {
   "cell_type": "code",
   "execution_count": null,
   "metadata": {
    "ExecuteTime": {
     "end_time": "2018-01-18T09:24:52.430757Z",
     "start_time": "2018-01-18T09:24:51.833877Z"
    }
   },
   "outputs": [],
   "source": [
    "uvdist=numpy.sqrt(vt.data['uvw'][:,0]**2+vt.data['uvw'][:,1]**2)\n",
    "plt.clf()\n",
    "plt.plot(uvdist, numpy.abs(vt.data['vis'][:]-vtmodel.data['vis'][:]), '.', color='r', label='Residual')\n",
    "plt.plot(uvdist, numpy.abs(vt.data['vis'][:]), '.', color='b', label='Original')\n",
    "\n",
    "plt.xlabel('uvdist')\n",
    "plt.ylabel('Amp Visibility')\n",
    "plt.legend()\n",
    "plt.show()\n",
    "\n",
    "\n"
   ]
  },
  {
   "cell_type": "code",
   "execution_count": null,
   "metadata": {},
   "outputs": [],
   "source": []
  }
 ],
 "metadata": {
  "kernelspec": {
   "display_name": "Python 3",
   "language": "python",
   "name": "python3"
  },
  "language_info": {
   "codemirror_mode": {
    "name": "ipython",
    "version": 3
   },
   "file_extension": ".py",
   "mimetype": "text/x-python",
   "name": "python",
   "nbconvert_exporter": "python",
   "pygments_lexer": "ipython3",
   "version": "3.6.1"
  }
 },
 "nbformat": 4,
 "nbformat_minor": 1
}
