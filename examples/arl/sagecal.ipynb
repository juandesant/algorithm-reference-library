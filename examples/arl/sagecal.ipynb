{
 "cells": [
  {
   "cell_type": "markdown",
   "metadata": {},
   "source": [
    "# Sagecal \n",
    "\n",
    "This notebook demonstrates the SageCal algorithm, based on the paper:\n",
    "Radio interferometric calibration with SAGE.\n",
    "\n",
    "S Kazemi, S Yatawatta, S Zaroubi, P Lampropoulos, A G de Bruyn, L V E Koopmans, and J Noordam.\n",
    "\n",
    "Monthly Notices of the Royal Astronomical Society, 2011 vol. 414 (2) pp. 1656-1666.\n",
    "\n",
    "http://adsabs.harvard.edu/cgi-bin/nph-data_query?bibcode=2011MNRAS.414.1656K&link_type=EJOURNAL\n"
   ]
  },
  {
   "cell_type": "code",
   "execution_count": null,
   "metadata": {
    "ExecuteTime": {
     "end_time": "2018-02-12T12:10:35.799105Z",
     "start_time": "2018-02-12T12:10:33.994060Z"
    },
    "scrolled": true
   },
   "outputs": [],
   "source": [
    "%matplotlib inline\n",
    "\n",
    "import os\n",
    "import sys\n",
    "sys.path.append(os.path.join('..','..'))\n",
    "\n",
    "results_dir = './results'\n",
    "os.makedirs(results_dir, exist_ok=True)\n",
    "\n",
    "from matplotlib import pylab\n",
    "\n",
    "pylab.rcParams['figure.figsize'] = (12.0, 12.0)\n",
    "pylab.rcParams['image.cmap'] = 'rainbow'\n",
    "\n",
    "import numpy\n",
    "\n",
    "from astropy.coordinates import SkyCoord\n",
    "from astropy import units as u\n",
    "from astropy.wcs.utils import pixel_to_skycoord\n",
    "\n",
    "from matplotlib import pyplot as plt\n",
    "\n",
    "from arl.skycomponent.operations import find_skycomponents, find_nearest_component\n",
    "from arl.calibration.solvers import solve_gaintable\n",
    "from arl.calibration.operations import apply_gaintable, create_gaintable_from_blockvisibility\n",
    "from arl.data.data_models import Image\n",
    "from arl.data.polarisation import PolarisationFrame\n",
    "from arl.data.parameters import get_parameter\n",
    "from arl.visibility.base import create_blockvisibility, copy_visibility\n",
    "from arl.skycomponent.operations import create_skycomponent\n",
    "from arl.image.operations import show_image, export_image_to_fits, qa_image, copy_image, create_empty_image_like\n",
    "from arl.visibility.iterators import vis_timeslice_iter\n",
    "from arl.visibility.coalesce import convert_visibility_to_blockvisibility\n",
    "from arl.util.testing_support import create_named_configuration, create_low_test_beam, \\\n",
    "    simulate_gaintable, create_low_test_skycomponents_from_gleam\n",
    "from arl.skycomponent.operations import apply_beam_to_skycomponent\n",
    "from arl.imaging import create_image_from_visibility, advise_wide_field, predict_skycomponent_visibility\n",
    "from arl.imaging.imaging_context import invert_function, predict_function\n",
    "from arl.pipelines.functions import ical\n",
    "\n",
    "from arl.calibration.sagecal import sagecal_solve\n",
    "\n",
    "import logging\n",
    "\n",
    "log = logging.getLogger()\n",
    "log.setLevel(logging.INFO)\n",
    "log.addHandler(logging.StreamHandler(sys.stdout))"
   ]
  },
  {
   "cell_type": "markdown",
   "metadata": {},
   "source": [
    "We make the visibility. The parameter rmax determines the distance of the furthest antenna/stations used. All over parameters are determined from this number."
   ]
  },
  {
   "cell_type": "code",
   "execution_count": null,
   "metadata": {
    "ExecuteTime": {
     "end_time": "2018-02-12T12:10:35.940240Z",
     "start_time": "2018-02-12T12:10:35.800838Z"
    }
   },
   "outputs": [],
   "source": [
    "nfreqwin = 1\n",
    "ntimes = 7\n",
    "rmax = 300\n",
    "npixel = 1024\n",
    "cellsize = 0.001\n",
    "frequency = numpy.linspace(0.8e8, 1.2e8, nfreqwin)\n",
    "if nfreqwin > 1:\n",
    "    channel_bandwidth = numpy.array(nfreqwin * [frequency[1] - frequency[0]])\n",
    "else:\n",
    "    channel_bandwidth = [0.4e8]\n",
    "times = numpy.linspace(-numpy.pi / 3.0, numpy.pi / 3.0, ntimes)\n",
    "\n",
    "phasecentre = SkyCoord(\n",
    "    ra=-60.0 * u.deg, dec=-60.0 * u.deg, frame='icrs', equinox='J2000')\n",
    "\n",
    "lowcore = create_named_configuration('LOWBD2', rmax=rmax)\n",
    "\n",
    "block_vis = create_blockvisibility(\n",
    "    lowcore,\n",
    "    times,\n",
    "    frequency=frequency,\n",
    "    channel_bandwidth=channel_bandwidth,\n",
    "    weight=1.0,\n",
    "    phasecentre=phasecentre,\n",
    "    polarisation_frame=PolarisationFrame(\"stokesI\"))\n",
    "\n",
    "print(block_vis.vis.shape)"
   ]
  },
  {
   "cell_type": "code",
   "execution_count": null,
   "metadata": {
    "ExecuteTime": {
     "end_time": "2018-02-12T12:10:36.257841Z",
     "start_time": "2018-02-12T12:10:35.942050Z"
    },
    "scrolled": false
   },
   "outputs": [],
   "source": [
    "wprojection_planes=1\n",
    "advice=advise_wide_field(block_vis, guard_band_image=5.0, delA=0.02, wprojection_planes=wprojection_planes)\n",
    "\n",
    "vis_slices = advice['vis_slices']\n",
    "npixel=advice['npixels2']\n",
    "cellsize=advice['cellsize']"
   ]
  },
  {
   "cell_type": "markdown",
   "metadata": {},
   "source": [
    "Generate the model from the GLEAM catalog, including application of the primary beam."
   ]
  },
  {
   "cell_type": "code",
   "execution_count": null,
   "metadata": {
    "ExecuteTime": {
     "end_time": "2018-02-12T12:10:46.555653Z",
     "start_time": "2018-02-12T12:10:36.259582Z"
    },
    "scrolled": false
   },
   "outputs": [],
   "source": [
    "beam = create_image_from_visibility(\n",
    "    block_vis,\n",
    "    npixel=npixel,\n",
    "    frequency=frequency,\n",
    "    nchan=nfreqwin,\n",
    "    cellsize=cellsize,\n",
    "    phasecentre=phasecentre)\n",
    "\n",
    "gleam_components = create_low_test_skycomponents_from_gleam(\n",
    "    flux_limit=2.0,\n",
    "    phasecentre=phasecentre,\n",
    "    frequency=frequency,\n",
    "    polarisation_frame=PolarisationFrame('stokesI'),\n",
    "    radius=npixel * cellsize)\n",
    "\n",
    "beam = create_low_test_beam(beam)\n",
    "gleam_components = apply_beam_to_skycomponent(gleam_components, beam, flux_limit=2.0)\n",
    "show_image(beam, components=gleam_components, cm='Greys', title='Primary beam plus original GLEAM components')\n",
    "print(\"Number of components %d\" % len(gleam_components))"
   ]
  },
  {
   "cell_type": "markdown",
   "metadata": {
    "ExecuteTime": {
     "end_time": "2018-02-07T15:50:29.575949Z",
     "start_time": "2018-02-07T15:50:29.572226Z"
    }
   },
   "source": [
    "Generate the template image"
   ]
  },
  {
   "cell_type": "code",
   "execution_count": null,
   "metadata": {
    "ExecuteTime": {
     "end_time": "2018-02-12T12:10:46.582363Z",
     "start_time": "2018-02-12T12:10:46.557271Z"
    },
    "scrolled": false
   },
   "outputs": [],
   "source": [
    "model = create_image_from_visibility(block_vis, npixel=npixel, frequency=[numpy.average(frequency)], nchan=1,\n",
    "    channel_bandwidth=[numpy.sum(channel_bandwidth)], cellsize=cellsize, phasecentre=phasecentre)"
   ]
  },
  {
   "cell_type": "markdown",
   "metadata": {},
   "source": [
    "Create the model visibilities, applying a different gain table for each."
   ]
  },
  {
   "cell_type": "code",
   "execution_count": null,
   "metadata": {
    "ExecuteTime": {
     "end_time": "2018-02-12T12:10:49.618161Z",
     "start_time": "2018-02-12T12:10:46.584286Z"
    }
   },
   "outputs": [],
   "source": [
    "corrupted_vis = copy_visibility(block_vis)\n",
    "gt = create_gaintable_from_blockvisibility(block_vis, timeslice='auto')\n",
    "for sc in gleam_components:\n",
    "    component_vis = copy_visibility(block_vis, zero=True)\n",
    "    gt = simulate_gaintable(gt, amplitude_error=0.0, phase_error=1.0)\n",
    "    component_vis = predict_skycomponent_visibility(component_vis, sc)\n",
    "    component_vis = apply_gaintable(component_vis, gt)\n",
    "    corrupted_vis.data['vis'][...]+=component_vis.data['vis'][...]\n",
    "    \n",
    "dirty, sumwt = invert_function(corrupted_vis, model, context='2d')"
   ]
  },
  {
   "cell_type": "markdown",
   "metadata": {},
   "source": [
    "Show the dirty image, along with the GLEAM components"
   ]
  },
  {
   "cell_type": "code",
   "execution_count": null,
   "metadata": {
    "ExecuteTime": {
     "end_time": "2018-02-12T12:10:50.154016Z",
     "start_time": "2018-02-12T12:10:49.619898Z"
    },
    "scrolled": false
   },
   "outputs": [],
   "source": [
    "show_image(dirty, components=gleam_components, cm='Greys', title='Dirty image plus original components')\n",
    "qa = qa_image(dirty)\n",
    "print(qa)\n",
    "plt.show()"
   ]
  },
  {
   "cell_type": "markdown",
   "metadata": {},
   "source": [
    "Find the components above the threshold 10 times the median-abs of the dirty image"
   ]
  },
  {
   "cell_type": "code",
   "execution_count": null,
   "metadata": {
    "ExecuteTime": {
     "end_time": "2018-02-12T12:10:51.021505Z",
     "start_time": "2018-02-12T12:10:50.156418Z"
    },
    "scrolled": false
   },
   "outputs": [],
   "source": [
    "qa = qa_image(dirty)\n",
    "found_components= find_skycomponents(dirty, threshold=10.0*qa.data['medianabs'])\n",
    "show_image(dirty, components=found_components, cm='Greys', title='Dirty image plus found components')\n",
    "plt.show()"
   ]
  },
  {
   "cell_type": "markdown",
   "metadata": {},
   "source": [
    "First do an isoplanatic selfcalibration using these components"
   ]
  },
  {
   "cell_type": "code",
   "execution_count": null,
   "metadata": {
    "ExecuteTime": {
     "end_time": "2018-02-12T12:10:54.085109Z",
     "start_time": "2018-02-12T12:10:51.023912Z"
    },
    "scrolled": false
   },
   "outputs": [],
   "source": [
    "predicted_vis = copy_visibility(block_vis, zero=True)\n",
    "predicted_vis = predict_skycomponent_visibility(predicted_vis, found_components)\n",
    "gt = solve_gaintable(corrupted_vis, predicted_vis, phase_only=True, timescale='auto', seed=None)\n",
    "corrupted_vis = apply_gaintable(corrupted_vis, gt, inverse=True)\n",
    "dirty, sumwt = invert_function(corrupted_vis, model, context='2d')\n",
    "\n",
    "qa = qa_image(dirty)\n",
    "found_components= find_skycomponents(dirty, threshold=20.0*qa.data['medianabs'])\n",
    "show_image(dirty, components=found_components, cm='Greys', title='Iso only: Dirty image plus found components')\n",
    "plt.show()"
   ]
  },
  {
   "cell_type": "markdown",
   "metadata": {},
   "source": [
    "Show the components found"
   ]
  },
  {
   "cell_type": "code",
   "execution_count": null,
   "metadata": {
    "ExecuteTime": {
     "end_time": "2018-02-12T12:10:54.828752Z",
     "start_time": "2018-02-12T12:10:54.086942Z"
    },
    "scrolled": false
   },
   "outputs": [],
   "source": [
    "flux_original = []\n",
    "flux_error = []\n",
    "separation=[]\n",
    "for sc in found_components:\n",
    "    found = find_nearest_component(sc.direction, gleam_components)\n",
    "    flux_original.append(found.flux[0,0])\n",
    "    flux_error.append(found.flux[0,0]-sc.flux[0,0])\n",
    "    separation.append(sc.direction.separation(found.direction).to('rad').value)\n",
    "    \n",
    "plt.clf()\n",
    "plt.plot(flux_original, flux_error, '.')\n",
    "plt.title('iso only: Error in recovered flux vs flux')\n",
    "plt.xlabel('Original flux')\n",
    "plt.ylabel('Error in recovered flux (original - recovered)')\n",
    "plt.show()\n",
    "\n",
    "plt.clf()\n",
    "plt.plot(flux_original, separation, '.')\n",
    "plt.title('iso only:Separation vs flux')\n",
    "plt.xlabel('Original flux')\n",
    "plt.ylabel('Separation (rad)')\n",
    "plt.show()"
   ]
  },
  {
   "cell_type": "markdown",
   "metadata": {},
   "source": [
    "Define callback for monitoring"
   ]
  },
  {
   "cell_type": "code",
   "execution_count": null,
   "metadata": {
    "ExecuteTime": {
     "end_time": "2018-02-12T12:10:54.842841Z",
     "start_time": "2018-02-12T12:10:54.830727Z"
    }
   },
   "outputs": [],
   "source": [
    "from arl.calibration.operations import qa_gaintable\n",
    "ncomps = len(found_components)\n",
    "niter=50\n",
    "flux_history = numpy.zeros([ncomps, niter])\n",
    "residual_history = numpy.zeros([ncomps, niter])\n",
    "phase_rms_history = numpy.zeros([ncomps, niter])\n",
    "\n",
    "def sagecal_callback(iter, thetas):\n",
    "    for i, theta in enumerate(thetas):\n",
    "        flux_history[i, iter] = theta[0].flux[0,0]\n",
    "        qa = qa_gaintable(theta[1])\n",
    "        residual_history[i, iter]=qa.data['residual']\n",
    "        phase_rms_history[i, iter]=qa.data['rms-phase']   "
   ]
  },
  {
   "cell_type": "markdown",
   "metadata": {},
   "source": [
    "Run sagecal"
   ]
  },
  {
   "cell_type": "code",
   "execution_count": null,
   "metadata": {
    "ExecuteTime": {
     "end_time": "2018-02-12T12:23:34.391892Z",
     "start_time": "2018-02-12T12:10:54.844532Z"
    },
    "scrolled": false
   },
   "outputs": [],
   "source": [
    "thetas, residual_vis = sagecal_solve(corrupted_vis, found_components, niter=niter, gain=0.25, tol=1e-8,\n",
    "                                    callback=sagecal_callback)"
   ]
  },
  {
   "cell_type": "markdown",
   "metadata": {},
   "source": [
    "Show the convergence behaviour"
   ]
  },
  {
   "cell_type": "code",
   "execution_count": null,
   "metadata": {
    "ExecuteTime": {
     "end_time": "2018-02-12T12:23:36.328094Z",
     "start_time": "2018-02-12T12:23:34.394044Z"
    },
    "scrolled": false
   },
   "outputs": [],
   "source": [
    "plt.clf()\n",
    "for comp in range(ncomps):\n",
    "    plt.plot(flux_history[comp, :], label=str(comp))\n",
    "\n",
    "plt.title(\"Flux convergence\")\n",
    "plt.xlabel('Iteration')\n",
    "plt.ylabel('Flux of component (Jy)')\n",
    "plt.legend()\n",
    "plt.show()\n",
    "\n",
    "plt.clf()\n",
    "for comp in range(ncomps):\n",
    "    plt.semilogy(residual_history[comp, 1:], label=str(comp))\n",
    "\n",
    "plt.title(\"Residual convergence\")\n",
    "plt.xlabel('Iteration')\n",
    "plt.ylabel('Residual of gain fit (Jy)')\n",
    "plt.legend()\n",
    "plt.show()\n",
    "\n",
    "plt.clf()\n",
    "for comp in range(ncomps):\n",
    "    plt.plot(phase_rms_history[comp, 1:], label=str(comp))\n",
    "\n",
    "plt.title(\"Phase rms convergence\")\n",
    "plt.xlabel('Iteration')\n",
    "plt.ylabel('Phase rms of fit (rad)')\n",
    "plt.legend()\n",
    "plt.show()\n",
    "\n",
    "plt.clf()\n",
    "for comp in range(ncomps):\n",
    "    plt.semilogy(phase_rms_history[comp, 2:], residual_history[comp, 2:], label=str(comp))\n",
    "\n",
    "plt.title(\"Convergence trajectory\")\n",
    "plt.ylabel('Residual of gain fit (Jy)')\n",
    "plt.xlabel('Phase rms of fit (rad)')\n",
    "plt.legend()\n",
    "plt.show()"
   ]
  },
  {
   "cell_type": "code",
   "execution_count": null,
   "metadata": {
    "ExecuteTime": {
     "end_time": "2018-02-12T12:23:37.639603Z",
     "start_time": "2018-02-12T12:23:36.330033Z"
    },
    "scrolled": false
   },
   "outputs": [],
   "source": [
    "flux_original = []\n",
    "flux_error = []\n",
    "separation=[]\n",
    "for theta in thetas:\n",
    "    sc=theta[0]\n",
    "    found = find_nearest_component(sc.direction, gleam_components)\n",
    "    flux_original.append(found.flux[0,0])\n",
    "    flux_error.append(found.flux[0,0]-sc.flux[0,0])\n",
    "    separation.append(sc.direction.separation(found.direction).to('rad').value)\n",
    "    \n",
    "plt.clf()\n",
    "plt.plot(flux_original, flux_error, '.')\n",
    "plt.title('sagecal: Error in recovered flux vs flux')\n",
    "plt.xlabel('Original flux')\n",
    "plt.ylabel('Error in recovered flux (original - recovered)')\n",
    "plt.show()\n",
    "\n",
    "plt.clf()\n",
    "plt.plot(flux_original, separation, '.')\n",
    "plt.title('sagecal: Separation vs flux')\n",
    "plt.xlabel('Original flux')\n",
    "plt.ylabel('Separation (rad)')\n",
    "plt.show()"
   ]
  },
  {
   "cell_type": "markdown",
   "metadata": {},
   "source": [
    "Find the componenets in the residual data"
   ]
  },
  {
   "cell_type": "code",
   "execution_count": null,
   "metadata": {
    "ExecuteTime": {
     "end_time": "2018-02-12T12:23:39.276919Z",
     "start_time": "2018-02-12T12:23:37.641731Z"
    }
   },
   "outputs": [],
   "source": [
    "show_image(dirty, components=found_components, cm='Greys', title='Dirty')\n",
    "print(qa_image(dirty))\n",
    "residual, sumwt = invert_function(residual_vis, model, context='2d')\n",
    "show_image(residual, components=gleam_components, cm='Greys', title='Residual from Sagecal')\n",
    "print(qa_image(residual))\n",
    "plt.show()"
   ]
  },
  {
   "cell_type": "code",
   "execution_count": null,
   "metadata": {
    "ExecuteTime": {
     "end_time": "2018-02-12T12:23:40.586818Z",
     "start_time": "2018-02-12T12:23:39.278950Z"
    }
   },
   "outputs": [],
   "source": [
    "psf, _ = invert_function(residual_vis, model, dopsf=True, context='2d')\n",
    "from arl.image.deconvolution import restore_cube\n",
    "from arl.skycomponent.operations import insert_skycomponent\n",
    "component_image = copy_image(model)\n",
    "component_image.data[...] = 0.0\n",
    "component_image= insert_skycomponent(component_image, found_components)\n",
    "restored = restore_cube(component_image, psf, residual)\n",
    "print(qa_image(restored, context='Restored image'))\n",
    "show_image(restored, components=found_components, cm='Greys', title='Restored image using Sagecal')\n",
    "plt.show()"
   ]
  },
  {
   "cell_type": "code",
   "execution_count": null,
   "metadata": {},
   "outputs": [],
   "source": []
  }
 ],
 "metadata": {
  "kernelspec": {
   "display_name": "Python 3",
   "language": "python",
   "name": "python3"
  },
  "language_info": {
   "codemirror_mode": {
    "name": "ipython",
    "version": 3
   },
   "file_extension": ".py",
   "mimetype": "text/x-python",
   "name": "python",
   "nbconvert_exporter": "python",
   "pygments_lexer": "ipython3",
   "version": "3.6.1"
  }
 },
 "nbformat": 4,
 "nbformat_minor": 1
}
