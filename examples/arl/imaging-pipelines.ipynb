{
 "cells": [
  {
   "cell_type": "markdown",
   "metadata": {},
   "source": [
    "# Pipeline processing using Dask\n",
    "\n",
    "This notebook demonstrates the continuum imaging and ICAL pipelines."
   ]
  },
  {
   "cell_type": "code",
   "execution_count": null,
   "metadata": {
    "ExecuteTime": {
     "end_time": "2018-01-31T15:18:44.881617Z",
     "start_time": "2018-01-31T15:18:43.172679Z"
    },
    "scrolled": true
   },
   "outputs": [],
   "source": [
    "%matplotlib inline\n",
    "\n",
    "import os\n",
    "import sys\n",
    "sys.path.append(os.path.join('..','..'))\n",
    "\n",
    "results_dir = './results'\n",
    "os.makedirs(results_dir, exist_ok=True)\n",
    "\n",
    "from dask import delayed\n",
    "import dask\n",
    "import dask.distributed\n",
    "\n",
    "results_dir = './results'\n",
    "os.makedirs(results_dir, exist_ok=True)\n",
    "\n",
    "from matplotlib import pylab\n",
    "\n",
    "pylab.rcParams['figure.figsize'] = (12.0, 12.0)\n",
    "pylab.rcParams['image.cmap'] = 'rainbow'\n",
    "\n",
    "import numpy\n",
    "\n",
    "\n",
    "import pprint\n",
    "\n",
    "from astropy.coordinates import SkyCoord\n",
    "from astropy import units as u\n",
    "from astropy.wcs.utils import pixel_to_skycoord\n",
    "\n",
    "from matplotlib import pyplot as plt\n",
    "\n",
    "from arl.calibration.solvers import solve_gaintable\n",
    "from arl.calibration.operations import apply_gaintable\n",
    "from arl.calibration.calibration_control import create_calibration_controls\n",
    "from arl.data.data_models import Image\n",
    "from arl.data.polarisation import PolarisationFrame\n",
    "from arl.data.parameters import get_parameter\n",
    "from arl.visibility.base import create_blockvisibility\n",
    "from arl.skycomponent.operations import create_skycomponent\n",
    "from arl.image.deconvolution import deconvolve_cube\n",
    "from arl.image.operations import show_image, export_image_to_fits, qa_image, copy_image, create_empty_image_like\n",
    "from arl.visibility.iterators import vis_timeslice_iter\n",
    "from arl.util.testing_support import create_named_configuration, create_low_test_beam\n",
    "from arl.imaging import predict_2d, create_image_from_visibility, advise_wide_field\n",
    "\n",
    "from arl.graphs.dask_init import get_dask_Client\n",
    "from arl.graphs.delayed import create_invert_graph, create_predict_graph, create_deconvolve_facet_graph, \\\n",
    "    create_residual_graph, compute_list\n",
    "from arl.imaging.imaging_context import imaging_context\n",
    "from arl.graphs.generic_graphs import create_generic_image_graph\n",
    "from arl.util.delayed_support import create_simulate_vis_graph, \\\n",
    "    create_low_test_image_from_gleam, create_corrupt_vis_graph\n",
    "from arl.pipelines.delayed import create_continuum_imaging_pipeline_graph, \\\n",
    "    create_ical_pipeline_graph    \n",
    "\n",
    "import logging\n",
    "\n",
    "log = logging.getLogger()\n",
    "log.setLevel(logging.DEBUG)\n",
    "log.addHandler(logging.StreamHandler(sys.stdout))"
   ]
  },
  {
   "cell_type": "code",
   "execution_count": null,
   "metadata": {
    "ExecuteTime": {
     "end_time": "2018-01-31T15:18:44.885515Z",
     "start_time": "2018-01-31T15:18:44.883224Z"
    }
   },
   "outputs": [],
   "source": [
    "pp = pprint.PrettyPrinter()"
   ]
  },
  {
   "cell_type": "markdown",
   "metadata": {},
   "source": [
    "Make a Dask client to manage the processing. Diagnostics are available at the URL given. Try the Status entry."
   ]
  },
  {
   "cell_type": "code",
   "execution_count": null,
   "metadata": {
    "ExecuteTime": {
     "end_time": "2018-01-31T15:18:50.437223Z",
     "start_time": "2018-01-31T15:18:48.188810Z"
    },
    "scrolled": true
   },
   "outputs": [],
   "source": [
    "c=get_dask_Client()"
   ]
  },
  {
   "cell_type": "markdown",
   "metadata": {},
   "source": [
    "We create a graph to make the visibility. The parameter rmax determines the distance of the furthest antenna/stations used. All over parameters are determined from this number."
   ]
  },
  {
   "cell_type": "code",
   "execution_count": null,
   "metadata": {
    "ExecuteTime": {
     "end_time": "2018-01-31T15:18:58.718781Z",
     "start_time": "2018-01-31T15:18:57.008607Z"
    },
    "scrolled": true
   },
   "outputs": [],
   "source": [
    "nfreqwin=7\n",
    "ntimes=11\n",
    "rmax=300.0\n",
    "frequency=numpy.linspace(0.8e8,1.2e8,nfreqwin)\n",
    "channel_bandwidth=numpy.array(nfreqwin*[frequency[1]-frequency[0]])\n",
    "times = numpy.linspace(-numpy.pi/3.0, numpy.pi/3.0, ntimes)\n",
    "phasecentre=SkyCoord(ra=+30.0 * u.deg, dec=-60.0 * u.deg, frame='icrs', equinox='J2000')\n",
    "\n",
    "vis_graph_list=create_simulate_vis_graph('LOWBD2',\n",
    "                                         frequency=frequency, \n",
    "                                         channel_bandwidth=channel_bandwidth,\n",
    "                                         times=times,\n",
    "                                         phasecentre=phasecentre,\n",
    "                                         order='frequency',\n",
    "                                        rmax=rmax)\n",
    "print('%d elements in vis_graph_list' % len(vis_graph_list))\n",
    "vis_graph_list = compute_list(c, vis_graph_list)"
   ]
  },
  {
   "cell_type": "code",
   "execution_count": null,
   "metadata": {
    "ExecuteTime": {
     "end_time": "2018-01-31T15:19:03.250993Z",
     "start_time": "2018-01-31T15:19:02.106535Z"
    },
    "scrolled": false
   },
   "outputs": [],
   "source": [
    "wprojection_planes=1\n",
    "advice_low=advise_wide_field(vis_graph_list[0], guard_band_image=4.0, delA=0.02,\n",
    "                             wprojection_planes=wprojection_planes)\n",
    "\n",
    "advice_high=advise_wide_field(vis_graph_list[-1], guard_band_image=4.0, delA=0.02,\n",
    "                              wprojection_planes=wprojection_planes)\n",
    "\n",
    "vis_slices = advice_low['vis_slices']\n",
    "npixel=advice_high['npixels2']\n",
    "cellsize=min(advice_low['cellsize'], advice_high['cellsize'])"
   ]
  },
  {
   "cell_type": "markdown",
   "metadata": {},
   "source": [
    "Now make a graph to fill with a model drawn from GLEAM "
   ]
  },
  {
   "cell_type": "code",
   "execution_count": null,
   "metadata": {
    "ExecuteTime": {
     "end_time": "2018-01-31T15:19:06.664533Z",
     "start_time": "2018-01-31T15:19:06.655085Z"
    },
    "scrolled": false
   },
   "outputs": [],
   "source": [
    "gleam_model_graph = [delayed(create_low_test_image_from_gleam)(npixel=npixel,\n",
    "                                                               frequency=[frequency[f]],\n",
    "                                                               channel_bandwidth=[channel_bandwidth[f]],\n",
    "                                                               cellsize=cellsize,\n",
    "                                                               phasecentre=phasecentre,\n",
    "                                                               polarisation_frame=PolarisationFrame(\"stokesI\"),\n",
    "                                                               flux_limit=0.1,\n",
    "                                                               applybeam=True)\n",
    "                     for f, freq in enumerate(frequency)]"
   ]
  },
  {
   "cell_type": "code",
   "execution_count": null,
   "metadata": {
    "ExecuteTime": {
     "end_time": "2018-01-31T15:25:13.534057Z",
     "start_time": "2018-01-31T15:19:13.577211Z"
    },
    "scrolled": true
   },
   "outputs": [],
   "source": [
    "predicted_vis_graph_list = create_predict_graph(vis_graph_list, gleam_model_graph, context='wstack', vis_slices=51)\n",
    "predicted_vis_graph_list = compute_list(c, predicted_vis_graph_list)\n",
    "corrupted_vis_graph_list = create_corrupt_vis_graph(predicted_vis_graph_list, phase_error=1.0)\n",
    "corrupted_vis_graph_list = compute_list(c, corrupted_vis_graph_list)"
   ]
  },
  {
   "cell_type": "markdown",
   "metadata": {},
   "source": [
    "Get the LSM. This is currently blank."
   ]
  },
  {
   "cell_type": "code",
   "execution_count": null,
   "metadata": {
    "ExecuteTime": {
     "end_time": "2018-01-31T15:25:50.550306Z",
     "start_time": "2018-01-31T15:25:50.539405Z"
    },
    "scrolled": true
   },
   "outputs": [],
   "source": [
    "model_graph = [delayed(create_image_from_visibility)(vis_graph_list[f],\n",
    "                                                     npixel=npixel,\n",
    "                                                     frequency=[frequency[f]],\n",
    "                                                     channel_bandwidth=[channel_bandwidth[f]],\n",
    "                                                     cellsize=cellsize,\n",
    "                                                     phasecentre=phasecentre,\n",
    "                                                     polarisation_frame=PolarisationFrame(\"stokesI\"))\n",
    "               for f, freq in enumerate(frequency)]"
   ]
  },
  {
   "cell_type": "markdown",
   "metadata": {},
   "source": [
    "Create a graph to make the dirty image "
   ]
  },
  {
   "cell_type": "code",
   "execution_count": null,
   "metadata": {
    "ExecuteTime": {
     "end_time": "2018-01-31T15:25:54.851614Z",
     "start_time": "2018-01-31T15:25:54.030371Z"
    },
    "scrolled": true
   },
   "outputs": [],
   "source": [
    "dirty_graph = create_invert_graph(predicted_vis_graph_list, model_graph, context='wstack',\n",
    "                                  vis_slices=vis_slices, dopsf=False)\n",
    "dirty_graph[0].visualize()"
   ]
  },
  {
   "cell_type": "code",
   "execution_count": null,
   "metadata": {
    "ExecuteTime": {
     "end_time": "2018-01-31T15:26:02.110085Z",
     "start_time": "2018-01-31T15:25:56.646275Z"
    },
    "scrolled": false
   },
   "outputs": [],
   "source": [
    "from arl.graphs.dask_init import get_dask_Client\n",
    "client = get_dask_Client()\n",
    "dirty, sumwt = client.compute(dirty_graph[0], sync=True)\n",
    "print(dirty)\n",
    "show_image(dirty)\n",
    "plt.show()"
   ]
  },
  {
   "cell_type": "code",
   "execution_count": null,
   "metadata": {
    "ExecuteTime": {
     "end_time": "2018-01-31T15:26:17.239845Z",
     "start_time": "2018-01-31T15:26:16.235628Z"
    },
    "scrolled": true
   },
   "outputs": [],
   "source": [
    "continuum_imaging_graph = \\\n",
    "    create_continuum_imaging_pipeline_graph(predicted_vis_graph_list, \n",
    "                                            model_graph=model_graph, \n",
    "                                            c_deconvolve_graph=create_deconvolve_facet_graph,\n",
    "                                            facets=1,\n",
    "                                            context='wstack', vis_slices=vis_slices, \n",
    "                                            algorithm='hogbom', niter=1000, \n",
    "                                            fractional_threshold=0.1,\n",
    "                                            threshold=0.1, nmajor=5, gain=0.1)"
   ]
  },
  {
   "cell_type": "code",
   "execution_count": null,
   "metadata": {
    "ExecuteTime": {
     "end_time": "2018-01-31T15:26:19.448434Z",
     "start_time": "2018-01-31T15:26:18.641057Z"
    },
    "scrolled": true
   },
   "outputs": [],
   "source": [
    "future=c.compute(continuum_imaging_graph)"
   ]
  },
  {
   "cell_type": "code",
   "execution_count": null,
   "metadata": {
    "ExecuteTime": {
     "end_time": "2018-01-31T15:29:09.313801Z",
     "start_time": "2018-01-31T15:26:20.739612Z"
    },
    "scrolled": false
   },
   "outputs": [],
   "source": [
    "deconvolved = future.result()[0][0]\n",
    "residual = future.result()[1][0]\n",
    "restored = future.result()[2][0]\n",
    "\n",
    "f=show_image(deconvolved, title='Clean image - no selfcal')\n",
    "print(qa_image(deconvolved, context='Clean image - no selfcal'))\n",
    "\n",
    "plt.show()\n",
    "\n",
    "f=show_image(restored, title='Restored clean image - no selfcal')\n",
    "print(qa_image(restored, context='Restored clean image - no selfcal'))\n",
    "plt.show()\n",
    "export_image_to_fits(restored, '%s/imaging-dask_continuum_imaging_restored.fits' \n",
    "                     %(results_dir))\n",
    "\n",
    "f=show_image(residual[0], title='Residual clean image - no selfcal')\n",
    "print(qa_image(residual[0], context='Residual clean image - no selfcal'))\n",
    "plt.show()\n",
    "export_image_to_fits(residual[0], '%s/imaging-dask_continuum_imaging_residual.fits' \n",
    "                     %(results_dir))"
   ]
  },
  {
   "cell_type": "code",
   "execution_count": null,
   "metadata": {
    "ExecuteTime": {
     "end_time": "2018-01-31T15:29:09.336617Z",
     "start_time": "2018-01-31T15:29:09.317325Z"
    }
   },
   "outputs": [],
   "source": [
    "controls = create_calibration_controls()\n",
    "        \n",
    "controls['T']['first_selfcal'] = 2\n",
    "controls['G']['first_selfcal'] = 3\n",
    "controls['B']['first_selfcal'] = 4\n",
    "\n",
    "controls['T']['timescale'] = 'auto'\n",
    "controls['G']['timescale'] = 'auto'\n",
    "controls['B']['timescale'] = 1e5\n",
    "\n",
    "pp.pprint(controls)"
   ]
  },
  {
   "cell_type": "code",
   "execution_count": null,
   "metadata": {
    "ExecuteTime": {
     "end_time": "2018-01-31T15:29:10.210454Z",
     "start_time": "2018-01-31T15:29:09.339070Z"
    },
    "scrolled": true
   },
   "outputs": [],
   "source": [
    "ical_graph = create_ical_pipeline_graph(corrupted_vis_graph_list, \n",
    "                                        model_graph=model_graph,  \n",
    "                                        vis_slices=vis_slices,\n",
    "                                        context='wstack',\n",
    "                                        timeslice='auto',\n",
    "                                        algorithm='hogbom', niter=1000, \n",
    "                                        fractional_threshold=0.1,\n",
    "                                        threshold=0.1, nmajor=5, \n",
    "                                        gain=0.1, controls=controls,\n",
    "                                        global_solution=False)"
   ]
  },
  {
   "cell_type": "code",
   "execution_count": null,
   "metadata": {
    "ExecuteTime": {
     "end_time": "2018-01-31T15:32:03.844910Z",
     "start_time": "2018-01-31T15:29:10.213462Z"
    },
    "scrolled": false
   },
   "outputs": [],
   "source": [
    "future=c.compute(ical_graph)\n",
    "deconvolved = future.result()[0][0]\n",
    "residual = future.result()[1][0]\n",
    "restored = future.result()[2][0]\n",
    "\n",
    "\n",
    "f=show_image(deconvolved, title='Clean image')\n",
    "print(qa_image(deconvolved, context='Clean image'))\n",
    "plt.show()\n",
    "\n",
    "f=show_image(restored, title='Restored clean image')\n",
    "print(qa_image(restored, context='Restored clean image'))\n",
    "plt.show()\n",
    "export_image_to_fits(restored, '%s/imaging-dask_ical_restored.fits' \n",
    "                     %(results_dir))\n",
    "\n",
    "\n",
    "\n",
    "f=show_image(residual[0], title='Residual clean image')\n",
    "print(qa_image(residual[0], context='Residual clean image'))\n",
    "plt.show()\n",
    "export_image_to_fits(residual[0], '%s/imaging-dask_ical_residual.fits' \n",
    "                     %(results_dir))"
   ]
  },
  {
   "cell_type": "code",
   "execution_count": null,
   "metadata": {
    "ExecuteTime": {
     "end_time": "2018-01-31T15:32:03.944826Z",
     "start_time": "2018-01-31T15:32:03.848765Z"
    },
    "scrolled": false
   },
   "outputs": [],
   "source": [
    "c.shutdown()"
   ]
  },
  {
   "cell_type": "code",
   "execution_count": null,
   "metadata": {},
   "outputs": [],
   "source": []
  }
 ],
 "metadata": {
  "kernelspec": {
   "display_name": "Python 3",
   "language": "python",
   "name": "python3"
  },
  "language_info": {
   "codemirror_mode": {
    "name": "ipython",
    "version": 3
   },
   "file_extension": ".py",
   "mimetype": "text/x-python",
   "name": "python",
   "nbconvert_exporter": "python",
   "pygments_lexer": "ipython3",
   "version": "3.6.1"
  }
 },
 "nbformat": 4,
 "nbformat_minor": 1
}
